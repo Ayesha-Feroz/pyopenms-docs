{
 "cells": [
  {
   "cell_type": "markdown",
   "metadata": {},
   "source": [
    "# Memory management\n",
    "\n",
    "On order to save memory, we can avoid loading the whole file into memory\n",
    "and use the OnDiscMSExperiment for reading data."
   ],
   "id": "97d96117-fc3c-455b-8501-aec7fb55dd44"
  },
  {
   "cell_type": "code",
   "execution_count": null,
   "metadata": {
    "linenos": ""
   },
   "outputs": [],
   "source": [
    "from pyopenms import *\n",
    "od_exp = OnDiscMSExperiment()\n",
    "od_exp.openFile(\"test.mzML\")\n",
    "\n",
    "e = MSExperiment()\n",
    "for k in range(od_exp.getNrSpectra()):\n",
    "  s = od_exp.getSpectrum(k)\n",
    "  if s.getNativeID().startswith(\"scan=\"):\n",
    "    e.addSpectrum(s)\n",
    "\n",
    "MzMLFile().store(\"test_filtered.mzML\", e)"
   ],
   "id": "dc77b460-2fca-407d-be10-af9dadfcda03"
  },
  {
   "cell_type": "markdown",
   "metadata": {},
   "source": [
    "Note that using the approach the output data `e` is still completely in\n",
    "memory and may end up using a substantial amount of memory. We can avoid\n",
    "that by using"
   ],
   "id": "805eacfe-77e6-4e92-b248-0c18c10758ff"
  },
  {
   "cell_type": "code",
   "execution_count": null,
   "metadata": {
    "linenos": ""
   },
   "outputs": [],
   "source": [
    "od_exp = OnDiscMSExperiment()\n",
    "od_exp.openFile(\"test.mzML\")\n",
    "\n",
    "consumer = PlainMSDataWritingConsumer(\"test_filtered.mzML\")\n",
    "\n",
    "e = MSExperiment()\n",
    "for k in range(od_exp.getNrSpectra()):\n",
    "  s = od_exp.getSpectrum(k)\n",
    "  if s.getNativeID().startswith(\"scan=\"):\n",
    "    consumer.consumeSpectrum(s)\n",
    "\n",
    "del consumer"
   ],
   "id": "61636036-b7e1-4caf-a672-188c399f6838"
  },
  {
   "cell_type": "markdown",
   "metadata": {},
   "source": [
    "Make sure you do not forget `del consumer` since otherwise the final\n",
    "part of the mzML may not get written to disk (and the consumer is still\n",
    "waiting for new data)."
   ],
   "id": "0293b618-7b26-4525-a1c1-9e37aeff5a2e"
  }
 ],
 "nbformat": 4,
 "nbformat_minor": 5,
 "metadata": {}
}
