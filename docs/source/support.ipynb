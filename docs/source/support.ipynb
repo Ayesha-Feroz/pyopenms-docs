{
 "cells": [
  {
   "cell_type": "markdown",
   "metadata": {},
   "source": [
    "# Support\n",
    "\n",
    "## Feature requests\n",
    "\n",
    "pyOpenMS is an evolving project. We are happy to learn about missing\n",
    "features you would like to see in pyOpenMS.\n",
    "\n",
    "Feel free to open an issue on [GitHub issue](https://github.com/OpenMS/OpenMS/issues)  \n",
    "to request a novel feature.\n",
    "\n",
    "## Troubleshooting\n",
    "\n",
    "If you encounter a problem running pyOpenMS feel free to contact us by\n",
    "opening a [GitHub issue](https://github.com/OpenMS/OpenMS/issues) or the\n",
    "[OpenMS Gitter chat channel](https://gitter.im/OpenMS/OpenMS/).\n",
    "\n",
    "Please provide information on what pyOpenMS version you have installed.\n",
    "You can check if importing pyOpenMS works and print your pyOpenMS\n",
    "version with:"
   ],
   "id": "6c2b934e-bc28-4f0f-ad0d-b4641790b0da"
  },
  {
   "cell_type": "code",
   "execution_count": null,
   "metadata": {},
   "outputs": [],
   "source": [
    "from pyopenms import *\n",
    "print(\"Version: \" + VersionInfo.getVersion())\n",
    "print(\"OpenMP: \" + str(OpenMSBuildInfo.isOpenMPEnabled()))\n",
    "print(\"Build type: \" + OpenMSBuildInfo.getBuildType())\n",
    "print(\"Architecture: \" + OpenMSOSInfo.getBinaryArchitecture())"
   ],
   "id": "6b5f178a-e57f-486c-844f-a02aeef348d1"
  }
 ],
 "nbformat": 4,
 "nbformat_minor": 5,
 "metadata": {}
}
