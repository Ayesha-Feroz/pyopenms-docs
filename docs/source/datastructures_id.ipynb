{
 "cells": [
  {
   "cell_type": "markdown",
   "metadata": {},
   "source": [
    "# Identification Data\n",
    "\n",
    "In OpenMS, identifications of peptides, proteins and small molecules are\n",
    "stored in dedicated data structures. These data structures are typically\n",
    "stored to disc as idXML or mzIdentML file. The highest-level structure\n",
    "is `ProteinIdentification`. It stores all identified proteins of an\n",
    "identification run as ProteinHit objects plus additional metadata\n",
    "(search parameters, etc.). Each `ProteinHit` contains the actual protein\n",
    "accession, an associated score, and (optionally) the protein sequence.\n",
    "\n",
    "A `PeptideIdentification` object stores the data corresponding to a\n",
    "single identified spectrum or feature. It has members for the retention\n",
    "time, m/z, and a vector of `PeptideHit` objects. Each `PeptideHit`\n",
    "stores the information of a specific peptide-to-spectrum match or PSM\n",
    "(e.g., the score and the peptide sequence). Each `PeptideHit` also\n",
    "contains a vector of `PeptideEvidence` objects which store the reference\n",
    "to one or more (in the case the peptide maps to multiple proteins)\n",
    "proteins and the position therein.\n",
    "\n",
    "<div style=\"background-color: #BDE5F8; margin: 10px 0px; padding:12px;\"><p style=\"font-size: x-large\"><i class=\"far fa-sticky-note\"></i> <b>Note</b></p>\n",
    "\n",
    "Protein Ids are linked to Peptide Ids by a common identifier (e.g., a\n",
    "unique string of time and date of the search). The Identifier can be set\n",
    "using the <span class=\"title-ref\">setIdentifier</span> method. Similarly\n",
    "<span class=\"title-ref\">getIdentifier</span> can be used to check the\n",
    "link between them. With the link one can retrieve search meta data\n",
    "(which is stored at the protein level) for individual Peptide Ids.\n",
    "\n",
    "``` code\n",
    "protein_id = ProteinIdentification()\n",
    "peptide_id = PeptideIdentification()\n",
    "\n",
    "# Sets the Identifier\n",
    "protein_id.setIdentifier(\"IdentificationRun1\")\n",
    "peptide_id.setIdentifier(\"IdentificationRun1\")\n",
    "\n",
    "# Prints the Identifier\n",
    "print(\"Protein Identifier -\", protein_id.getIdentifier())\n",
    "print(\"Peptide Identifier -\", peptide_id.getIdentifier())\n",
    "```\n",
    "\n",
    "``` output\n",
    "Protein Identifier - IdentificationRun1\n",
    "Peptide Identifier - IdentificationRun1\n",
    "```\n",
    "\n",
    "</div>\n",
    "\n",
    "## ProteinIdentification\n",
    "\n",
    "We can create an object of type `ProteinIdentification` and populate it\n",
    "with `ProteinHit` objects as follows:"
   ],
   "id": "e168e220-1b87-47e8-b4be-06e385a060d4"
  },
  {
   "cell_type": "code",
   "execution_count": null,
   "metadata": {
    "linenos": ""
   },
   "outputs": [],
   "source": [
    "from pyopenms import *\n",
    "\n",
    "# Create new protein identification object corresponding to a single search\n",
    "protein_id = ProteinIdentification()\n",
    "protein_id.setIdentifier(\"IdentificationRun1\")\n",
    "\n",
    "# Each ProteinIdentification object stores a vector of protein hits\n",
    "protein_hit = ProteinHit()\n",
    "protein_hit.setAccession(\"sp|MyAccession\")\n",
    "protein_hit.setSequence(\"PEPTIDERDLQMTQSPSSLSVSVGDRPEPTIDE\")\n",
    "protein_hit.setScore(1.0)\n",
    "protein_hit.setMetaValue(\"target_decoy\", b\"target\") # its a target protein\n",
    "\n",
    "protein_id.setHits([protein_hit])"
   ],
   "id": "9f53961b-fa04-4528-a4f5-61c74717680a"
  },
  {
   "cell_type": "markdown",
   "metadata": {},
   "source": [
    "We have now added a single `ProteinHit` with the accession\n",
    "`sp|MyAccession` to the `ProteinIdentification` object (note how on line\n",
    "14 we directly added a list of size 1). We can continue to add meta-data\n",
    "for the whole identification run (such as search parameters):"
   ],
   "id": "95f00210-2217-43d0-9c0d-020151744ced"
  },
  {
   "cell_type": "code",
   "execution_count": null,
   "metadata": {
    "linenos": ""
   },
   "outputs": [],
   "source": [
    "now = DateTime.now()\n",
    "date_string = now.getDate()\n",
    "protein_id.setDateTime(now)\n",
    "\n",
    "# Example of possible search parameters\n",
    "search_parameters = SearchParameters() # ProteinIdentification::SearchParameters\n",
    "search_parameters.db = \"database\"\n",
    "search_parameters.charges = \"+2\"\n",
    "protein_id.setSearchParameters(search_parameters)\n",
    "\n",
    "# Some search engine meta data\n",
    "protein_id.setSearchEngineVersion(\"v1.0.0\")\n",
    "protein_id.setSearchEngine(\"SearchEngine\")\n",
    "protein_id.setScoreType(\"HyperScore\")\n",
    "\n",
    "# Iterate over all protein hits\n",
    "for hit in protein_id.getHits():\n",
    "  print(\"Protein hit accession:\", hit.getAccession())\n",
    "  print(\"Protein hit sequence:\", hit.getSequence())\n",
    "  print(\"Protein hit score:\", hit.getScore())"
   ],
   "id": "92ca1344-0f1e-4f75-8005-527534afe47c"
  },
  {
   "cell_type": "markdown",
   "metadata": {},
   "source": [
    "## PeptideIdentification\n",
    "\n",
    "Next, we can also create a `PeptideIdentification` object and add\n",
    "corresponding `PeptideHit` objects:"
   ],
   "id": "b5df5101-6b63-48ca-a497-d03d99136177"
  },
  {
   "cell_type": "code",
   "execution_count": null,
   "metadata": {
    "linenos": ""
   },
   "outputs": [],
   "source": [
    "peptide_id = PeptideIdentification()\n",
    "\n",
    "peptide_id.setRT(1243.56)\n",
    "peptide_id.setMZ(440.0)\n",
    "peptide_id.setScoreType(\"ScoreType\")\n",
    "peptide_id.setHigherScoreBetter(False)\n",
    "peptide_id.setIdentifier(\"IdentificationRun1\")\n",
    "\n",
    "# define additional meta value for the peptide identification\n",
    "peptide_id.setMetaValue(\"AdditionalMetaValue\", \"Value\")\n",
    "\n",
    "# create a new PeptideHit (best PSM, best score)\n",
    "peptide_hit = PeptideHit()\n",
    "peptide_hit.setScore(1.0)\n",
    "peptide_hit.setRank(1)\n",
    "peptide_hit.setCharge(2)\n",
    "peptide_hit.setSequence(AASequence.fromString(\"DLQM(Oxidation)TQSPSSLSVSVGDR\"))\n",
    "\n",
    "ev = PeptideEvidence()\n",
    "ev.setProteinAccession(\"sp|MyAccession\")\n",
    "ev.setAABefore(b\"R\")\n",
    "ev.setAAAfter(b\"P\")\n",
    "ev.setStart(123) # start and end position in the protein\n",
    "ev.setEnd(141)\n",
    "peptide_hit.setPeptideEvidences([ev])\n",
    "\n",
    "# create a new PeptideHit (second best PSM, lower score)\n",
    "peptide_hit2 = PeptideHit()\n",
    "peptide_hit2.setScore(0.5)\n",
    "peptide_hit2.setRank(2)\n",
    "peptide_hit2.setCharge(2)\n",
    "peptide_hit2.setSequence(AASequence.fromString(\"QDLMTQSPSSLSVSVGDR\"))\n",
    "peptide_hit2.setPeptideEvidences([ev])\n",
    "\n",
    "# add PeptideHit to PeptideIdentification\n",
    "peptide_id.setHits([peptide_hit, peptide_hit2])"
   ],
   "id": "ba28ac61-9c1e-4efa-a6ca-9e1748e28ae2"
  },
  {
   "cell_type": "markdown",
   "metadata": {},
   "source": [
    "This allows us to represent single spectra (`PeptideIdentification` at\n",
    "*m/z* 440.0 and *rt* 1234.56) with possible identifications that are\n",
    "ranked by score. In this case, apparently two possible peptides match\n",
    "the spectrum which have the first three amino acids in a different order\n",
    "\"DLQ\" vs \"QDL\").\n",
    "\n",
    "We can now display the peptides we just stored:"
   ],
   "id": "0d5165f8-aaa8-468d-848a-f5e2af18b1ed"
  },
  {
   "cell_type": "code",
   "execution_count": null,
   "metadata": {},
   "outputs": [],
   "source": [
    "# Iterate over PeptideIdentification\n",
    "peptide_ids = [peptide_id]\n",
    "for peptide_id in peptide_ids:\n",
    "  # Peptide identification values\n",
    "  print (\"Peptide ID m/z:\", peptide_id.getMZ())\n",
    "  print (\"Peptide ID rt:\", peptide_id.getRT())\n",
    "  print (\"Peptide ID score type:\", peptide_id.getScoreType())\n",
    "  # PeptideHits\n",
    "  for hit in peptide_id.getHits():\n",
    "    print(\" - Peptide hit rank:\", hit.getRank())\n",
    "    print(\" - Peptide hit sequence:\", hit.getSequence())\n",
    "    print(\" - Peptide hit score:\", hit.getScore())\n",
    "    print(\" - Mapping to proteins:\", [ev.getProteinAccession() \n",
    "                                        for ev in hit.getPeptideEvidences() ] )"
   ],
   "id": "17a07f34-5148-47c1-aad9-f2c9f5c04ab3"
  },
  {
   "cell_type": "markdown",
   "metadata": {},
   "source": [
    "## Storage on disk\n",
    "\n",
    "Finally, we can store the peptide and protein identification data in a\n",
    "`idXML` file (a OpenMS internal file format which we have previously\n",
    "discussed\n",
    "[here](other_file_handling.ipynb#identification-data-idxml-mzidentml-pepxml-protxml))\n",
    "which we would do as follows:"
   ],
   "id": "7df1e4b4-1ca8-4d9b-a792-0899314c8973"
  },
  {
   "cell_type": "code",
   "execution_count": null,
   "metadata": {
    "linenos": ""
   },
   "outputs": [],
   "source": [
    "# Store the identification data in an idXML file  \n",
    "IdXMLFile().store(\"out.idXML\", [protein_id], peptide_ids)\n",
    "# and load it back into memory\n",
    "prot_ids = []; pep_ids = []\n",
    "IdXMLFile().load(\"out.idXML\", prot_ids, pep_ids)\n",
    "\n",
    "# Iterate over all protein hits\n",
    "for protein_id in prot_ids:\n",
    "  for hit in protein_id.getHits():\n",
    "    print(\"Protein hit accession:\", hit.getAccession())\n",
    "    print(\"Protein hit sequence:\", hit.getSequence())\n",
    "    print(\"Protein hit score:\", hit.getScore())\n",
    "    print(\"Protein hit target/decoy:\", hit.getMetaValue(\"target_decoy\"))\n",
    "\n",
    "# Iterate over PeptideIdentification\n",
    "for peptide_id in pep_ids:\n",
    "  # Peptide identification values\n",
    "  print (\"Peptide ID m/z:\", peptide_id.getMZ())\n",
    "  print (\"Peptide ID rt:\", peptide_id.getRT())\n",
    "  print (\"Peptide ID score type:\", peptide_id.getScoreType())\n",
    "  # PeptideHits\n",
    "  for hit in peptide_id.getHits():\n",
    "    print(\" - Peptide hit rank:\", hit.getRank())\n",
    "    print(\" - Peptide hit sequence:\", hit.getSequence())\n",
    "    print(\" - Peptide hit score:\", hit.getScore())\n",
    "    print(\" - Mapping to proteins:\", [ev.getProteinAccession() for ev in hit.getPeptideEvidences() ] )"
   ],
   "id": "4d8d9a56-ed94-4bc4-860b-2af51e46f75a"
  },
  {
   "cell_type": "markdown",
   "metadata": {},
   "source": [
    "You can inspect the `out.idXML` XML file produced here, and you will\n",
    "find a `<ProteinHit>` entry for the protein that we stored and two\n",
    "`<PeptideHit>` entries for the two peptides stored on disk."
   ],
   "id": "ef18f882-8b7d-4439-826e-fa6dfbc84ff8"
  }
 ],
 "nbformat": 4,
 "nbformat_minor": 5,
 "metadata": {}
}
