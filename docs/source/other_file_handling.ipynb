{
 "cells": [
  {
   "cell_type": "markdown",
   "metadata": {},
   "source": [
    "# Other MS data formats\n",
    "\n",
    "## Identification data (idXML, mzIdentML, pepXML, protXML)\n",
    "\n",
    "You can store and load identification data from an <span\n",
    "class=\"title-ref\">idXML</span> file as follows:"
   ],
   "id": "1cd9f497-bbad-4a54-bba5-4ed35299476f"
  },
  {
   "cell_type": "code",
   "execution_count": null,
   "metadata": {},
   "outputs": [],
   "source": [
    "from urllib.request import urlretrieve\n",
    "from pyopenms import *\n",
    "gh = gh = \"https://raw.githubusercontent.com/OpenMS/pyopenms-docs/master\"\n",
    "urlretrieve (gh + \"/src/data/IdXMLFile_whole.idXML\", \"test.idXML\")\n",
    "protein_ids = []\n",
    "peptide_ids = []\n",
    "IdXMLFile().load(\"test.idXML\", protein_ids, peptide_ids)\n",
    "IdXMLFile().store(\"test.out.idXML\", protein_ids, peptide_ids)"
   ],
   "id": "21c96f2f-4cae-485b-aadd-828a6c0c45fb"
  },
  {
   "cell_type": "markdown",
   "metadata": {},
   "source": [
    "You can store and load identification data from an <span\n",
    "class=\"title-ref\">mzIdentML</span> file as follows:"
   ],
   "id": "5385e079-310e-4c52-999b-eb08b9b9bc4a"
  },
  {
   "cell_type": "code",
   "execution_count": null,
   "metadata": {},
   "outputs": [],
   "source": [
    "from urllib.request import urlretrieve\n",
    "gh = gh = \"https://raw.githubusercontent.com/OpenMS/pyopenms-docs/master\"\n",
    "urlretrieve (gh + \"/src/data/MzIdentML_3runs.mzid\", \"test.mzid\")\n",
    "protein_ids = []\n",
    "peptide_ids = []\n",
    "MzIdentMLFile().load(\"test.mzid\", protein_ids, peptide_ids)\n",
    "MzIdentMLFile().store(\"test.out.mzid\", protein_ids, peptide_ids)"
   ],
   "id": "140fd8f3-774b-4f34-9595-20135c1ab9d2"
  },
  {
   "cell_type": "markdown",
   "metadata": {},
   "source": [
    "You can store and load identification data from a TPP <span\n",
    "class=\"title-ref\">pepXML</span> file as follows:"
   ],
   "id": "734bcfe1-4ed9-40a8-9b16-a67d0ecda80d"
  },
  {
   "cell_type": "code",
   "execution_count": null,
   "metadata": {},
   "outputs": [],
   "source": [
    "from urllib.request import urlretrieve\n",
    "gh = gh = \"https://raw.githubusercontent.com/OpenMS/pyopenms-docs/master\"\n",
    "urlretrieve (gh + \"/src/data/PepXMLFile_test.pepxml\", \"test.pepxml\")\n",
    "protein_ids = []\n",
    "peptide_ids = []\n",
    "PepXMLFile().load(\"test.pepxml\", protein_ids, peptide_ids)\n",
    "PepXMLFile().store(\"test.out.pepxml\", protein_ids, peptide_ids)"
   ],
   "id": "29dd3e9a-5eb4-41d9-8902-6a8c1d3cb806"
  },
  {
   "cell_type": "markdown",
   "metadata": {},
   "source": [
    "You can load (storing is not supported) identification data from a TPP\n",
    "<span class=\"title-ref\">protXML</span> file as follows:"
   ],
   "id": "c51a4e0a-972c-4153-908e-7d8724ce0f10"
  },
  {
   "cell_type": "code",
   "execution_count": null,
   "metadata": {},
   "outputs": [],
   "source": [
    "from urllib.request import urlretrieve\n",
    "gh = gh = \"https://raw.githubusercontent.com/OpenMS/pyopenms-docs/master\"\n",
    "urlretrieve (gh + \"/src/data/ProtXMLFile_input_1.protXML\", \"test.protXML\")\n",
    "protein_ids = ProteinIdentification()\n",
    "peptide_ids = PeptideIdentification()\n",
    "ProtXMLFile().load(\"test.protXML\", protein_ids, peptide_ids)\n",
    "# storing protein XML file is not yet supported"
   ],
   "id": "61397414-423b-4509-bd68-fd64ef472345"
  },
  {
   "cell_type": "markdown",
   "metadata": {},
   "source": [
    "note how each data file produces two vectors of type\n",
    "`ProteinIdentification` and `PeptideIdentification` which also means\n",
    "that conversion between two data types is trivial: load data from one\n",
    "data file and use the storage function of the other file.\n",
    "\n",
    "## Quantiative data (featureXML, consensusXML)\n",
    "\n",
    "OpenMS stores quantitative information in the internal `featureXML` and\n",
    "`consensusXML` data formats. The `featureXML` format is used to store\n",
    "quantitative data from a single LC-MS/MS run while the `consensusXML` is\n",
    "used to store quantitative data from multiple LC-MS/MS runs. These can\n",
    "be accessed as follows:"
   ],
   "id": "c2dea990-f8e5-4394-99ce-66642f2c751c"
  },
  {
   "cell_type": "code",
   "execution_count": null,
   "metadata": {},
   "outputs": [],
   "source": [
    "from urllib.request import urlretrieve\n",
    "gh = gh = \"https://raw.githubusercontent.com/OpenMS/pyopenms-docs/master\"\n",
    "urlretrieve (gh + \"/src/data/FeatureFinderCentroided_1_output.featureXML\", \"test.featureXML\")\n",
    "features = FeatureMap()\n",
    "FeatureXMLFile().load(\"test.featureXML\", features)\n",
    "FeatureXMLFile().store(\"test.out.featureXML\", features)"
   ],
   "id": "8fef273e-625f-4688-b49c-189638ca5e82"
  },
  {
   "cell_type": "markdown",
   "metadata": {},
   "source": [
    "and for `consensusXML`"
   ],
   "id": "b5bf783e-81e8-460e-9e30-d884f8cb55c4"
  },
  {
   "cell_type": "code",
   "execution_count": null,
   "metadata": {},
   "outputs": [],
   "source": [
    "from urllib.request import urlretrieve\n",
    "gh = gh = \"https://raw.githubusercontent.com/OpenMS/pyopenms-docs/master\"\n",
    "urlretrieve (gh + \"/src/data/ConsensusXMLFile_1.consensusXML\", \"test.consensusXML\")\n",
    "consensus_features = ConsensusMap()\n",
    "ConsensusXMLFile().load(\"test.consensusXML\", consensus_features)\n",
    "ConsensusXMLFile().store(\"test.out.consensusXML\", consensus_features)"
   ],
   "id": "89c5c475-1773-436f-8cc5-de1f96134cd1"
  },
  {
   "cell_type": "markdown",
   "metadata": {},
   "source": [
    "## Transition data (TraML)\n",
    "\n",
    "The TraML data format allows you to store transition information for\n",
    "targeted experiments (SRM / MRM / PRM / DIA)."
   ],
   "id": "5a4ed747-da0a-4665-80aa-5a18d289ee08"
  },
  {
   "cell_type": "code",
   "execution_count": null,
   "metadata": {},
   "outputs": [],
   "source": [
    "from urllib.request import urlretrieve\n",
    "gh = \"https://raw.githubusercontent.com/OpenMS/pyopenms-extra/master\"\n",
    "urlretrieve (gh + \"/src/data/ConvertTSVToTraML_output.TraML\", \"test.TraML\")\n",
    "targeted_exp = TargetedExperiment()\n",
    "TraMLFile().load(\"test.TraML\", targeted_exp)\n",
    "TraMLFile().store(\"test.out.TraML\", targeted_exp)"
   ],
   "id": "dd621952-6ed0-449a-b73a-a2a421e46901"
  }
 ],
 "nbformat": 4,
 "nbformat_minor": 5,
 "metadata": {}
}
