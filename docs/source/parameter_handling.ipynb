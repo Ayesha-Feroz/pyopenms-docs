{
 "cells": [
  {
   "cell_type": "markdown",
   "metadata": {},
   "source": [
    "# Parameter Handling\n",
    "\n",
    "Parameter handling in OpenMS and pyOpenMS is usually implemented through\n",
    "inheritance from `DefaultParamHandler` and allow access to parameters\n",
    "through the `Param` object. This means, the classes implement the\n",
    "methods `getDefaults`, `getParameters`, `setParameters` which allows\n",
    "access to the default parameters, the current parameters and allows to\n",
    "set the parameters.\n",
    "\n",
    "The `Param` object that is returned can be manipulated through the\n",
    "`setValue` and `getValue` methods (the `exists` method can be used to\n",
    "check for existence of a key). Using the `getDescription` method, it is\n",
    "possible to get a help-text for each parameter value in an interactive\n",
    "session without consulting the documentation."
   ],
   "id": "fef2f66c-c5c8-41d5-b7ba-c95866b70b42"
  },
  {
   "cell_type": "code",
   "execution_count": null,
   "metadata": {},
   "outputs": [],
   "source": [
    "from pyopenms import *\n",
    "p = Param()\n",
    "p.setValue(\"param1\", 4.0, \"This is value 1\")\n",
    "p.setValue(\"param2\", 5.0, \"This is value 2\")\n",
    "p.setValue(\"param3\", [b\"H:+:0.6\",b\"Na:+:0.2\",b\"K:+:0.2\"], \"This is value 3 (StringList)\")\n",
    "print( p[b\"param1\"] )\n",
    "p[b\"param1\"] += 3 # add three to the parameter value\n",
    "print( p[b\"param1\"] )\n",
    "print( p[b\"param3\"] )"
   ],
   "id": "1122ca33-8493-4e22-b315-e8b87ed395fc"
  },
  {
   "cell_type": "markdown",
   "metadata": {},
   "source": [
    "The parameters can then be accessed as"
   ],
   "id": "fe6d84d6-1c49-4b93-9f77-cee635f86b53"
  },
  {
   "cell_type": "code",
   "execution_count": null,
   "metadata": {},
   "outputs": [],
   "source": [
    ">>> p.asDict()\n",
    "{'param2': 4.0, 'param1': 7.0}\n",
    ">>> p.values()\n",
    "[4.0, 7.0]\n",
    ">>> p.keys()\n",
    "['param1', 'param2']\n",
    ">>> p.items()\n",
    "[('param1', 7.0), ('param2', 4.0)]\n",
    ">>> p.exists(\"param1\")\n",
    "True"
   ],
   "id": "00472bdb-4683-4826-8c08-da6440b3529f"
  },
  {
   "cell_type": "markdown",
   "metadata": {},
   "source": [
    "The param object can be copy and merge in to other param object as"
   ],
   "id": "516235c9-4262-43c0-adb3-420875737ca8"
  },
  {
   "cell_type": "code",
   "execution_count": null,
   "metadata": {},
   "outputs": [],
   "source": [
    "# print the key and values pairs stored in a Param object\n",
    "def printParamKeyAndValues(p):\n",
    "  if (p.size()):\n",
    "    for i in p.keys():\n",
    "      print(\"Key:\", i, \"Value:\", p[i])\n",
    "  else :\n",
    "      print(\"no data availabe\")\n",
    "\n",
    "new_p = Param()\n",
    "if (p.empty() == False): # check p is not empty\n",
    "  new_p = p              # new deep copy of p generate with name \"new_p\"\n",
    "\n",
    "# we will add 4 more keys to the new_p\n",
    "new_p.setValue(\"param2\", 9.0, \"This is value 9\")\n",
    "new_p.setValue(\"example1\", 6.0, \"This is value 6\")\n",
    "new_p.setValue(\"example2\", 8.0, \"This is value 8\")\n",
    "new_p.setValue(\"example3\", 10.0, \"This is value 10\")\n",
    "\n",
    "# names \"example1\", \"example2\" , \"example3\" keys will added to p, but \"param2\" will update the value\n",
    "p.merge(new_p)\n",
    "print(\" print the key  and values pairs stored in a Param object p \")\n",
    "printParamKeyAndValues(p)  "
   ],
   "id": "ddd0ade4-e802-4499-afbf-9abad856aaef"
  },
  {
   "cell_type": "markdown",
   "metadata": {},
   "source": [
    "In param object the keys values can be remove by key_name or prefix as"
   ],
   "id": "be013b22-6a6d-45ea-8db3-9822ca45c299"
  },
  {
   "cell_type": "code",
   "execution_count": null,
   "metadata": {},
   "outputs": [],
   "source": [
    "# We now call the remove method with key of the entry we want to delete (\"example3\")\n",
    "new_p.remove(\"example3\")\n",
    "print(\"Key and values pairs after removing the entry with key: example3\")\n",
    "printParamKeyAndValues(new_p) \n",
    "\n",
    "# We now want to delete all keys with prefix \"exam\"\n",
    "new_p.removeAll(\"exam\")\n",
    "print(\"Key and value pairs after removing all entries with keys starting with: exam\")\n",
    "printParamKeyAndValues(new_p) \n",
    "\n",
    "# we can compare Param objects for identical content\n",
    "if (p == new_p): # check p is equal to new_p\n",
    "  new_p.clear() # Example: delete all keys from new_p\n",
    "\n",
    "print(\"Keys and values after deleting all entries.\")\n",
    "printParamKeyAndValues(new_p) # All keys of new_p deleted"
   ],
   "id": "31c84418-d3fc-41ba-9f11-b1d178e08729"
  }
 ],
 "nbformat": 4,
 "nbformat_minor": 5,
 "metadata": {}
}
