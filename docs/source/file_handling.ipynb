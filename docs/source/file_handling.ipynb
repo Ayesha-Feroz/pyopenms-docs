{
 "cells": [
  {
   "cell_type": "markdown",
   "metadata": {},
   "source": [
    "# Reading Raw MS data\n",
    "\n",
    "## mzML files in memory\n",
    "\n",
    "As discussed in the last section, the most straight forward way to load\n",
    "mass spectrometric data is using the `MzMLFile` class:"
   ],
   "id": "eb6b1002-33c3-4546-bacb-2abba8a49f3b"
  },
  {
   "cell_type": "code",
   "execution_count": null,
   "metadata": {},
   "outputs": [],
   "source": [
    "from pyopenms import *\n",
    "from urllib.request import urlretrieve\n",
    "gh = \"https://raw.githubusercontent.com/OpenMS/pyopenms-docs/master\"\n",
    "urlretrieve (gh + \"/src/data/tiny.mzML\", \"test.mzML\")\n",
    "exp = MSExperiment()\n",
    "MzMLFile().load(\"test.mzML\", exp)"
   ],
   "id": "d313b4d0-4bd5-4b79-a9c4-2b54d3c9bd19"
  },
  {
   "cell_type": "markdown",
   "metadata": {},
   "source": [
    "which will load the content of the \"test.mzML\" file into the `exp`\n",
    "variable of type `MSExperiment`. We can access the raw data and spectra\n",
    "through:"
   ],
   "id": "bab0cf62-472d-468d-a8ef-274780e5157a"
  },
  {
   "cell_type": "code",
   "execution_count": null,
   "metadata": {},
   "outputs": [],
   "source": [
    "spectrum_data = exp.getSpectrum(0).get_peaks()\n",
    "chromatogram_data = exp.getChromatogram(0).get_peaks()"
   ],
   "id": "188615b8-5369-4c7e-a4f4-0499e6a74eeb"
  },
  {
   "cell_type": "markdown",
   "metadata": {},
   "source": [
    "Which will allow us to compute on spectra and chromatogram data. We can\n",
    "manipulate the spectra in the file for example as follows:"
   ],
   "id": "81d69abc-24fb-4fb6-af87-ca92ee6a71f2"
  },
  {
   "cell_type": "code",
   "execution_count": null,
   "metadata": {},
   "outputs": [],
   "source": [
    "spec = []\n",
    "for s in exp.getSpectra():\n",
    "    if s.getMSLevel() != 1:\n",
    "        spec.append(s)\n",
    "\n",
    "exp.setSpectra(spec)"
   ],
   "id": "7b807f07-d578-41f9-a2ae-568f833f4d5e"
  },
  {
   "cell_type": "markdown",
   "metadata": {},
   "source": [
    "Which will only keep MS2 spectra in the `MSExperiment`. We can then\n",
    "store the modified data structure on disk:"
   ],
   "id": "b67ede95-441b-438b-a722-1137698ca74f"
  },
  {
   "cell_type": "code",
   "execution_count": null,
   "metadata": {},
   "outputs": [],
   "source": [
    "MzMLFile().store(\"filtered.mzML\", exp)"
   ],
   "id": "b01a741a-db96-4166-8a01-226f90b7dfcc"
  },
  {
   "cell_type": "markdown",
   "metadata": {},
   "source": [
    "Putting this together, a small filtering program would look like this:"
   ],
   "id": "aa48f0f1-29af-44e2-9d0f-220f5fbabbf4"
  },
  {
   "cell_type": "code",
   "execution_count": null,
   "metadata": {},
   "outputs": [],
   "source": [
    "\"\"\"\n",
    "Script to read mzML data and filter out all MS1 spectra\n",
    "\"\"\"\n",
    "exp = MSExperiment()\n",
    "MzMLFile().load(\"test.mzML\", exp)\n",
    "\n",
    "spec = []\n",
    "for s in exp.getSpectra():\n",
    "    if s.getMSLevel() != 1:\n",
    "        spec.append(s)\n",
    "\n",
    "exp.setSpectra(spec)\n",
    "\n",
    "MzMLFile().store(\"filtered.mzML\", exp)"
   ],
   "id": "7bfe46e4-390e-4099-89d4-9eeba3681363"
  },
  {
   "cell_type": "markdown",
   "metadata": {},
   "source": [
    "## indexed mzML files\n",
    "\n",
    "Since pyOpenMS 2.4, you can open, read and inspect files that use the\n",
    "indexedMzML standard. This allows users to read MS data without loading\n",
    "all data into memory:"
   ],
   "id": "0ed3f44a-117e-46bc-9286-7b64208e7e99"
  },
  {
   "cell_type": "code",
   "execution_count": null,
   "metadata": {},
   "outputs": [],
   "source": [
    "od_exp = OnDiscMSExperiment()\n",
    "od_exp.openFile(\"test.mzML\")\n",
    "meta_data = od_exp.getMetaData()\n",
    "meta_data.getNrChromatograms()\n",
    "od_exp.getNrChromatograms()\n",
    "\n",
    "# data is not present in meta_data experiment\n",
    "sum(meta_data.getChromatogram(0).get_peaks()[1]) # no data!\n",
    "sum(od_exp.getChromatogram(0).get_peaks()[1]) # data is here!\n",
    "\n",
    "# meta data is present and identical in both data structures:\n",
    "meta_data.getChromatogram(0).getNativeID() # fast\n",
    "od_exp.getChromatogram(0).getNativeID() # slow"
   ],
   "id": "505a13e9-4016-45ef-89c7-028c0b2e3c7d"
  },
  {
   "cell_type": "markdown",
   "metadata": {},
   "source": [
    "Note that the `OnDiscMSExperiment` allows users to access meta data\n",
    "through the `getMetaData` function, which allows easy selection and\n",
    "filtering on meta data attributes (such as MS level, precursor *m/z*,\n",
    "retention time etc.) in order to select spectra and chromatograms for\n",
    "analysis. Only once selection on the meta data has been performed, will\n",
    "actual data be loaded into memory using the `getChromatogram` and\n",
    "`getSpectrum` functions.\n",
    "\n",
    "This approach is memory efficient in cases where computation should only\n",
    "occur on part of the data or the whole data may not fit into memory.\n",
    "\n",
    "## mzML files as streams\n",
    "\n",
    "In some instances it is impossible or inconvenient to load all data from\n",
    "an mzML file directly into memory. OpenMS offers streaming-based access\n",
    "to mass spectrometric data which uses a callback object that receives\n",
    "spectra and chromatograms as they are read from the disk. A simple\n",
    "implementation could look like"
   ],
   "id": "e214d754-be66-4d90-9718-f87b012f859a"
  },
  {
   "cell_type": "code",
   "execution_count": null,
   "metadata": {},
   "outputs": [],
   "source": [
    "class MSCallback():\n",
    "    def setExperimentalSettings(self, s):\n",
    "        pass\n",
    "\n",
    "    def setExpectedSize(self, a, b):\n",
    "        pass\n",
    "\n",
    "    def consumeChromatogram(self, c):\n",
    "        print (\"Read a chromatogram\")\n",
    "\n",
    "    def consumeSpectrum(self, s):\n",
    "        print (\"Read a spectrum\")"
   ],
   "id": "5d873072-044c-474c-b962-e68dc60ebc60"
  },
  {
   "cell_type": "markdown",
   "metadata": {},
   "source": [
    "which can the be used as follows:\n",
    "\n",
    "``` output\n",
    "filename = b\"test.mzML\"\n",
    "consumer = MSCallback()\n",
    "MzMLFile().transform(filename, consumer)\n",
    "Read a spectrum\n",
    "Read a spectrum\n",
    "Read a spectrum\n",
    "Read a spectrum\n",
    "Read a chromatogram\n",
    "Read a chromatogram\n",
    "```\n",
    "\n",
    "which provides an intuition on how the callback object works: whenever a\n",
    "spectrum or chromatogram is read from disk, the function\n",
    "`consumeSpectrum` or `consumeChromatogram` is called and a specific\n",
    "action is performed. We can use this to implement a simple filtering\n",
    "function for mass spectra:\n",
    "\n",
    "``` output\n",
    "class FilteringConsumer():\n",
    "    \"\"\"\n",
    "    Consumer that forwards all calls the internal consumer (after\n",
    "    filtering)\n",
    "    \"\"\"\n",
    "\n",
    "    def __init__(self, consumer, filter_string):\n",
    "        self._internal_consumer = consumer\n",
    "        self.filter_string = filter_string\n",
    "\n",
    "    def setExperimentalSettings(self, s):\n",
    "        self._internal_consumer.setExperimentalSettings(s)\n",
    "\n",
    "    def setExpectedSize(self, a, b):\n",
    "        self._internal_consumer.setExpectedSize(a, b)\n",
    "\n",
    "    def consumeChromatogram(self, c):\n",
    "        if c.getNativeID().find(self.filter_string) != -1:\n",
    "            self._internal_consumer.consumeChromatogram(c)\n",
    "\n",
    "    def consumeSpectrum(self, s):\n",
    "        if s.getNativeID().find(self.filter_string) != -1:\n",
    "            self._internal_consumer.consumeSpectrum(s)\n",
    "\n",
    "###################################\n",
    "filter_string = \"DECOY\"\n",
    "inputfile = \"in.mzML\"\n",
    "outputfile = \"out.mzML\"\n",
    "###################################\n",
    "\n",
    "consumer = PlainMSDataWritingConsumer(outputfile)\n",
    "consumer = FilteringConsumer(consumer, filter_string)\n",
    "\n",
    "MzMLFile().transform(inputfile, consumer)\n",
    "```\n",
    "\n",
    "where the spectra and chromatograms are filtered by their native ids. It\n",
    "is similarly trivial to implement filtering by other attributes. Note\n",
    "how the data are written to disk using the `PlainMSDataWritingConsumer`\n",
    "which is one of multiple available consumer classes -- this specific\n",
    "class will simply take the spectrum `s` or chromatogram `c` and write it\n",
    "to disk (the location of the output file is given by the `outfile`\n",
    "variable).\n",
    "\n",
    "Note that this approach is memory efficient in cases where computation\n",
    "should only occur on part of the data or the whole data may not fit into\n",
    "memory.\n",
    "\n",
    "## cached mzML files\n",
    "\n",
    "In addition, since pyOpenMS 2.4 the user can efficiently cache mzML\n",
    "files to disk which provides very fast access with minimal overhead in\n",
    "memory. Basically the data directly mapped into memory when requested.\n",
    "You can use this feature as follows:"
   ],
   "id": "4c5ab146-7e56-40c8-b9ca-be9b1ba567a9"
  },
  {
   "cell_type": "code",
   "execution_count": null,
   "metadata": {},
   "outputs": [],
   "source": [
    "# First load data and cache to disk\n",
    "exp = MSExperiment()\n",
    "MzMLFile().load(\"test.mzML\", exp)\n",
    "CachedmzML.store(\"myCache.mzML\", exp)\n",
    "\n",
    "# Now load data\n",
    "cfile = CachedmzML()\n",
    "CachedmzML.load(\"myCache.mzML\", cfile)\n",
    "\n",
    "meta_data = cfile.getMetaData()\n",
    "cfile.getNrChromatograms()\n",
    "cfile.getNrSpectra()\n",
    "\n",
    "# data is not present in meta_data experiment\n",
    "sum(meta_data.getChromatogram(0).get_peaks()[1]) # no data!\n",
    "sum(cfile.getChromatogram(0).get_peaks()[1]) # data is here!\n",
    "\n",
    "# meta data is present and identical in both data structures:\n",
    "meta_data.getChromatogram(0).getNativeID() # fast\n",
    "cfile.getChromatogram(0).getNativeID() # slow"
   ],
   "id": "ee03895c-0e0d-4158-a9ec-7996ab326124"
  },
  {
   "cell_type": "markdown",
   "metadata": {},
   "source": [
    "Note that the `CachedmzML` allows users to access meta data through the\n",
    "`getMetaData` function, which allows easy selection and filtering on\n",
    "meta data attributes (such as MS level, precursor *m/z*, retention time\n",
    "etc.) in order to select spectra and chromatograms for analysis. Only\n",
    "once selection on the meta data has been performed, will actual data be\n",
    "loaded into memory using the `getChromatogram` and `getSpectrum`\n",
    "functions.\n",
    "\n",
    "Note that in the example above all data is loaded into memory first and\n",
    "then cached to disk. This is not very efficient and we can use the\n",
    "`MSDataCachedConsumer` to directly cache to disk (without loading any\n",
    "data into memory):"
   ],
   "id": "03d87f3b-1e51-4874-ae57-ace2720096af"
  },
  {
   "cell_type": "code",
   "execution_count": null,
   "metadata": {},
   "outputs": [],
   "source": [
    "# First cache to disk\n",
    "# Note: writing meta data to myCache2.mzML is required\n",
    "cacher = MSDataCachedConsumer(\"myCache2.mzML.cached\")\n",
    "exp = MSExperiment()\n",
    "MzMLFile().transform(b\"test.mzML\", cacher, exp)\n",
    "CachedMzMLHandler().writeMetadata(exp, \"myCache2.mzML\")\n",
    "del cacher\n",
    "\n",
    "# Now load data\n",
    "cfile = CachedmzML()\n",
    "CachedmzML.load(\"myCache2.mzML\", cfile)\n",
    "\n",
    "meta_data = cfile.getMetaData()\n",
    "# data is not present in meta_data experiment\n",
    "sum(meta_data.getChromatogram(0).get_peaks()[1]) # no data!\n",
    "sum(cfile.getChromatogram(0).get_peaks()[1]) # data is here!"
   ],
   "id": "6785c278-8308-4a25-9a99-2f1638fe17bb"
  },
  {
   "cell_type": "markdown",
   "metadata": {},
   "source": [
    "This approach is now memory efficient in cases where computation should\n",
    "only occur on part of the data or the whole data may not fit into\n",
    "memory."
   ],
   "id": "98df5317-e0f1-44cb-bd59-4911a47510e4"
  }
 ],
 "nbformat": 4,
 "nbformat_minor": 5,
 "metadata": {}
}
