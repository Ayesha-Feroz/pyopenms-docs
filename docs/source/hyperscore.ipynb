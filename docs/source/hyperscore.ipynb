{
 "cells": [
  {
   "cell_type": "markdown",
   "metadata": {},
   "source": [
    "# Scoring spectra with HyperScore\n",
    "\n",
    "In the chapter on spectrum alignment we showed how to determine matching\n",
    "peaks between theoretical and experimental spectra. For many use cases\n",
    "we might actually not be interested in obtaining the list of matched\n",
    "peaks but would like to have a simple, single score that indicates how\n",
    "\"well\" the two spectra matched. The HyperScore is a method to assign a\n",
    "spectrum match score to spectrum matches.\n",
    "\n",
    "## Background\n",
    "\n",
    "HyperScore computes the (ln transformed) HyperScore of theoretical\n",
    "spectrum, calculated from a peptide/oligonucleotide sequence, with an\n",
    "experimental spectrum, loaded from an mzML file.\n",
    "\n",
    "> 1.  the dot product of peak intensities between matching peaks in\n",
    ">     experimental and theoretical spectrum is calculated\n",
    "> 2.  the HyperScore is calculated from the dot product by multiplying\n",
    ">     by factorials of matching b- and y-ions"
   ],
   "id": "5ba84e4e-110a-43be-8548-3c6b98381fc2"
  },
  {
   "cell_type": "code",
   "execution_count": null,
   "metadata": {},
   "outputs": [],
   "source": [
    "from urllib.request import urlretrieve\n",
    "from pyopenms import *\n",
    "gh = \"https://raw.githubusercontent.com/OpenMS/pyopenms-docs/master\"\n",
    "urlretrieve (gh + \"/src/data/SimpleSearchEngine_1.mzML\", \"searchfile.mzML\")"
   ],
   "id": "66a1bac1-bcf2-4125-870f-6e4d9b15e7a8"
  },
  {
   "cell_type": "markdown",
   "metadata": {},
   "source": [
    "## Generate a theoretical spectrum\n",
    "\n",
    "We now use the TheoreticalSpectrumGenerator to generate a theoretical\n",
    "spectrum for the sequence we are interested in,\n",
    "`RPGADSDIGGFGGLFDLAQAGFR`, and compare the peaks to a spectra from our\n",
    "file."
   ],
   "id": "70fdd03f-c636-4c1b-b598-3c31e0df4fb2"
  },
  {
   "cell_type": "code",
   "execution_count": null,
   "metadata": {},
   "outputs": [],
   "source": [
    "tsg = TheoreticalSpectrumGenerator()\n",
    "thspec = MSSpectrum()\n",
    "p = Param()\n",
    "p.setValue(\"add_metainfo\", \"true\")\n",
    "tsg.setParameters(p)\n",
    "peptide = AASequence.fromString(\"RPGADSDIGGFGGLFDLAQAGFR\")\n",
    "tsg.getSpectrum(thspec, peptide, 1, 1)\n",
    "# Iterate over annotated ions and their masses\n",
    "for ion, peak in zip(thspec.getStringDataArrays()[0], thspec):\n",
    "    print(ion, peak.getMZ())\n",
    "\n",
    "e = MSExperiment()\n",
    "MzMLFile().load(\"searchfile.mzML\", e)\n",
    "spectrum_of_interest = e[2]\n",
    "print (\"Spectrum native id\", spectrum_of_interest.getNativeID() )\n",
    "mz,i = spectrum_of_interest.get_peaks()\n",
    "peaks = [(mz,i) for mz,i in zip(mz,i) if i > 1500 and mz > 300]\n",
    "for peak in peaks:\n",
    "  print (peak[0], \"mz\", peak[1], \"int\")"
   ],
   "id": "5a4ec660-089a-48cb-996f-88f3b6780b16"
  },
  {
   "cell_type": "markdown",
   "metadata": {},
   "source": [
    "Comparing the theoretical spectrum and the experimental spectrum for\n",
    "`RPGADSDIGGFGGLFDLAQAGFR` we can easily see that the most abundant ions\n",
    "in the spectrum are y8 (877.452 m/z), b10 (926.432), y9 (1024.522 m/z)\n",
    "and b13 (1187.544 m/z).\n",
    "\n",
    "## Getting a score\n",
    "\n",
    "We now run HyperScore to compute the similarity of the theoretical\n",
    "spectrum and the experimental spectrum and print the result"
   ],
   "id": "5fa2eee4-fab0-46dd-95e1-b31647e8c6e7"
  },
  {
   "cell_type": "code",
   "execution_count": null,
   "metadata": {},
   "outputs": [],
   "source": [
    "hscore = HyperScore()\n",
    "fragment_mass_tolerance = 5.0\n",
    "is_tol_in_ppm = True\n",
    "result = hscore.compute(fragment_mass_tolerance, is_tol_in_ppm, spectrum_of_interest, thspec)\n",
    "result"
   ],
   "id": "3a1da6d1-2a0f-4a30-b96f-edc9f9de0e2c"
  },
  {
   "cell_type": "markdown",
   "metadata": {},
   "source": [
    "If we didn't know ahead of time which spectrum was a match we can loop through all the spectra from our file,  \n",
    "calculate scores for all of them, and print the result:"
   ],
   "id": "ab2e2f5b-e885-4b36-a9e1-d8e6ec26631e"
  },
  {
   "cell_type": "code",
   "execution_count": null,
   "metadata": {},
   "outputs": [],
   "source": [
    "for f in e:\n",
    "    score = hscore.compute(fragment_mass_tolerance, is_tol_in_ppm, f, thspec)\n",
    "    print(f.getNativeID() + \":\" + str(score) )"
   ],
   "id": "4e9c3614-70a1-4041-b72b-257ff8b84e17"
  }
 ],
 "nbformat": 4,
 "nbformat_minor": 5,
 "metadata": {}
}
