{
 "cells": [
  {
   "cell_type": "markdown",
   "metadata": {},
   "source": [
    "# Digestion\n",
    "\n",
    "## Proteolytic Digestion with Trypsin\n",
    "\n",
    "OpenMS has classes for proteolytic digestion which can be used as\n",
    "follows:"
   ],
   "id": "f010acba-4e1e-4d20-a87f-f917374ce210"
  },
  {
   "cell_type": "code",
   "execution_count": null,
   "metadata": {},
   "outputs": [],
   "source": [
    "from pyopenms import *\n",
    "from urllib.request import urlretrieve\n",
    "gh = \"https://raw.githubusercontent.com/OpenMS/pyopenms-docs/master\"\n",
    "urlretrieve (gh + \"/src/data/P02769.fasta\", \"bsa.fasta\")\n",
    "\n",
    "dig = ProteaseDigestion()\n",
    "dig.getEnzymeName() # Trypsin\n",
    "bsa = \"\".join([l.strip() for l in open(\"bsa.fasta\").readlines()[1:]])\n",
    "bsa = AASequence.fromString(bsa)\n",
    "# create all digestion products\n",
    "result = []\n",
    "dig.digest(bsa, result)\n",
    "print(result[4].toString())\n",
    "len(result) # 82 peptides"
   ],
   "id": "9190fee1-b74f-45a9-91c0-cfeac1a53fc5"
  },
  {
   "cell_type": "markdown",
   "metadata": {},
   "source": [
    "Very short peptides or even single amino acid digestion products are\n",
    "often discarded as they usually contain little information (e.g., can't\n",
    "be used to identify proteins). We now only generate digestion products\n",
    "with a length of 7 to 40."
   ],
   "id": "0de22ef3-2001-467f-8ce0-4ed7175a5f40"
  },
  {
   "cell_type": "code",
   "execution_count": null,
   "metadata": {},
   "outputs": [],
   "source": [
    "# only create peptides of length 7-40\n",
    "dig.digest(bsa, result, 7, 40)\n",
    "# print the results\n",
    "for s in result:\n",
    "    print(s.toString())    "
   ],
   "id": "c8397a3f-8d56-43ab-9da4-3bceaeb4274a"
  },
  {
   "cell_type": "markdown",
   "metadata": {},
   "source": [
    "Enzymatic digestion is often not perfect and sometimes enzymes miss\n",
    "cutting a peptide. We now allow up to two missed cleavages."
   ],
   "id": "1306b6f9-8a42-461e-8cf7-495db42f037f"
  },
  {
   "cell_type": "code",
   "execution_count": null,
   "metadata": {},
   "outputs": [],
   "source": [
    "# Allow two missed cleavages\n",
    "dig.setMissedCleavages(2)\n",
    "# only create peptides of length 7-40\n",
    "dig.digest(bsa, result, 7, 40)\n",
    "# print the results\n",
    "for s in result:\n",
    "    print(s.toString())"
   ],
   "id": "02729645-f5b7-4c03-b12b-52b92ab3063b"
  },
  {
   "cell_type": "markdown",
   "metadata": {},
   "source": [
    "## Proteolytic Digestion with Lys-C\n",
    "\n",
    "We can of course also use different enzymes, these are defined in the\n",
    "`Enzymes.xml` file and can be accessed using the `EnzymesDB` object"
   ],
   "id": "3ae34e3a-6a76-49a2-875c-7fd741710eeb"
  },
  {
   "cell_type": "code",
   "execution_count": null,
   "metadata": {},
   "outputs": [],
   "source": [
    "names = []\n",
    "ProteaseDB().getAllNames(names)\n",
    "len(names) # at least 25 by default\n",
    "e = ProteaseDB().getEnzyme('Lys-C')\n",
    "e.getRegExDescription()\n",
    "e.getRegEx()"
   ],
   "id": "a38c0f82-8e10-46c3-9276-188394536cca"
  },
  {
   "cell_type": "markdown",
   "metadata": {},
   "source": [
    "Now that we have learned about the other enzymes available, we can use\n",
    "it to cut our protein of interest:"
   ],
   "id": "977ae677-856f-4115-b5f4-50173353d3ce"
  },
  {
   "cell_type": "code",
   "execution_count": null,
   "metadata": {},
   "outputs": [],
   "source": [
    "from urllib.request import urlretrieve\n",
    "gh = \"https://raw.githubusercontent.com/OpenMS/pyopenms-docs/master\"\n",
    "urlretrieve (gh + \"/src/data/P02769.fasta\", \"bsa.fasta\")\n",
    "\n",
    "dig = ProteaseDigestion()\n",
    "dig.setEnzyme('Lys-C')\n",
    "bsa = \"\".join([l.strip() for l in open(\"bsa.fasta\").readlines()[1:]])\n",
    "bsa = AASequence.fromString(bsa)\n",
    "result = []\n",
    "dig.digest(bsa, result)\n",
    "print(result[4].toString())\n",
    "len(result) # 57 peptides"
   ],
   "id": "88b2b447-0cb0-4f83-9da1-a4415f6e7b67"
  },
  {
   "cell_type": "markdown",
   "metadata": {},
   "source": [
    "We now get different digested peptides (57 vs 82) and the fourth peptide\n",
    "is now `GLVLIAFSQYLQQCPFDEHVK` instead of `DTHK` as with Trypsin (see\n",
    "above).\n",
    "\n",
    "## Oligonucleotide Digestion\n",
    "\n",
    "There are multiple cleavage enzymes available for oligonucleotides,\n",
    "these are defined `Enzymes_RNA.xml` file and can be accessed using the\n",
    "`RNaseDB` object"
   ],
   "id": "81d6b53c-5468-4ee8-9d8e-ac6570d8d575"
  },
  {
   "cell_type": "code",
   "execution_count": null,
   "metadata": {},
   "outputs": [],
   "source": [
    "db = RNaseDB()\n",
    "names = []\n",
    "db.getAllNames(names)\n",
    "names\n",
    "# Will print out all available enzymes:\n",
    "# ['RNase_U2', 'RNase_T1', 'RNase_H', 'unspecific cleavage', 'no cleavage', 'RNase_MC1', 'RNase_A', 'cusativin']\n",
    "e = db.getEnzyme(\"RNase_T1\")\n",
    "e.getRegEx()\n",
    "e.getThreePrimeGain() "
   ],
   "id": "dc8a91e2-3578-4d5e-81dc-51f000698dcf"
  },
  {
   "cell_type": "markdown",
   "metadata": {},
   "source": [
    "We can now use it to cut an oligo:"
   ],
   "id": "96941b33-9d20-4889-bb5b-56094c0a40f3"
  },
  {
   "cell_type": "code",
   "execution_count": null,
   "metadata": {},
   "outputs": [],
   "source": [
    "oligo = NASequence.fromString(\"pAUGUCGCAG\");\n",
    "\n",
    "dig = RNaseDigestion()\n",
    "dig.setEnzyme(\"RNase_T1\")\n",
    "\n",
    "result = []\n",
    "dig.digest(oligo, result)\n",
    "for fragment in result:\n",
    "  print (fragment)\n",
    "\n",
    "print(\"Looking closer at\", result[0])\n",
    "print(\" Five Prime modification:\", result[0].getFivePrimeMod().getCode())\n",
    "print(\" Three Prime modification:\", result[0].getThreePrimeMod().getCode())\n",
    "for ribo in result[0]:\n",
    "  print (ribo.getCode(), ribo.getMonoMass(), ribo.isModified())"
   ],
   "id": "f206fcb2-753a-456b-8ebf-17ea19175a45"
  }
 ],
 "nbformat": 4,
 "nbformat_minor": 5,
 "metadata": {}
}
