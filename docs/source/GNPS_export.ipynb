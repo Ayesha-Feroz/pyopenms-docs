{
 "cells": [
  {
   "cell_type": "markdown",
   "metadata": {},
   "source": [
    "# Export files for GNPS\n",
    "\n",
    "With pyOpenMS you can automatically generate all files needed for GNPS\n",
    "Feature-Based Molecular Networking (FBMN) and Ion Identity Molecular\n",
    "Networking (IIMN).\n",
    "\n",
    "Pre-requisites are your input mzML files and a `ConsensusMap`, generated\n",
    "by an [untargeted metabolomics pre-processing\n",
    "workflow](metabolomics_preprocessing.ipynb). Ensure that MS2 data has\n",
    "been mapped to the `FeatureMap` objects with `IDMapper`. For IIMN adduct\n",
    "detection must have been performed on the `FeatureMap` objects during\n",
    "pre-processing with `MetaboliteFeatureDeconvolution`.\n",
    "\n",
    "First, download two example `mzML` files that have been map aligned\n",
    "based on a feature map alignment."
   ],
   "id": "beb99755-52d3-48e7-a641-06604c8747d9"
  },
  {
   "cell_type": "code",
   "execution_count": null,
   "metadata": {},
   "outputs": [],
   "source": [
    "from urllib.request import urlretrieve\n",
    "gh = \"https://raw.githubusercontent.com/OpenMS/pyopenms-docs/master\"\n",
    "urlretrieve (gh + \"/src/data/Metabolomics_1_aligned.mzML\", \"Metabolomics_1_aligned.mzML\")\n",
    "urlretrieve (gh + \"/src/data/Metabolomics_2_aligned.mzML\", \"Metabolomics_2_aligned.mzML\")\n",
    "urlretrieve (gh + \"/src/data/UntargetedMetabolomics.consensusXML\", \"UntargetedMetabolomics.consensusXML\")"
   ],
   "id": "91fae21f-73d8-4370-8772-5105ad6c3686"
  },
  {
   "cell_type": "code",
   "execution_count": null,
   "metadata": {},
   "outputs": [],
   "source": [
    "from pyopenms import *\n",
    "\n",
    "mzML_files = [\"Metabolomics_1_aligned.mzML\", \"Metabolomics_2_aligned.mzML\"]\n",
    "\n",
    "consensusXML_file = \"UntargetedMetabolomics.consensusXML\""
   ],
   "id": "d465eab3-fceb-4385-bebb-44ad6d82c7f1"
  },
  {
   "cell_type": "markdown",
   "metadata": {},
   "source": [
    "Since GNPS only works with features that contain MS2 fragmentation\n",
    "spectra, the first step is to filter out features from your\n",
    "`ConsensusMap` that have no MS2 spectra annotated."
   ],
   "id": "1393304c-f476-43db-9d5c-45b3ab69fd95"
  },
  {
   "cell_type": "code",
   "execution_count": null,
   "metadata": {},
   "outputs": [],
   "source": [
    "consensus_map = ConsensusMap()\n",
    "ConsensusXMLFile().load(consensusXML_file, consensus_map)\n",
    "filtered_map = ConsensusMap(consensus_map)\n",
    "filtered_map.clear(False)\n",
    "for feature in consensus_map:\n",
    "    if feature.getPeptideIdentifications():\n",
    "        filtered_map.push_back(feature)\n",
    "\n",
    "consensusXML_file = \"filtered.consensusXML\"\n",
    "ConsensusXMLFile().store(consensusXML_file, filtered_map)"
   ],
   "id": "b0dccabc-f25a-45c1-bd3b-7cf064224ade"
  },
  {
   "cell_type": "markdown",
   "metadata": {},
   "source": [
    "Now you can export your all files for FBMN and IIMN."
   ],
   "id": "0a848dbd-a8f0-48a7-acd1-12feda30fd88"
  },
  {
   "cell_type": "code",
   "execution_count": null,
   "metadata": {},
   "outputs": [],
   "source": [
    "# for FFBM\n",
    "GNPSMGFFile().store(String(consensusXML_file), [file.encode() for file in mzML_files], String(\"MS2data.mgf\")) \n",
    "GNPSQuantificationFile().store(consensus_map, \"FeatureQuantificationTable.txt\")\n",
    "GNPSMetaValueFile().store(consensus_map, \"MetaValueTable.tsv\")\n",
    "\n",
    "# for IIMN\n",
    "IonIdentityMolecularNetworking().annotateConsensusMap(consensus_map)\n",
    "IonIdentityMolecularNetworking().writeSupplementaryPairTable(consensus_map, \"SupplementaryPairTable.csv\")"
   ],
   "id": "ef6b1804-1af4-4b88-a0c2-9ab26ae11eef"
  }
 ],
 "nbformat": 4,
 "nbformat_minor": 5,
 "metadata": {}
}
